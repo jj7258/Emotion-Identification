{
  "cells": [
    {
      "cell_type": "markdown",
      "metadata": {
        "id": "view-in-github",
        "colab_type": "text"
      },
      "source": [
        "<a href=\"https://colab.research.google.com/github/jj7258/Emotion-Identification/blob/main/Emotion_Identification.ipynb\" target=\"_parent\"><img src=\"https://colab.research.google.com/assets/colab-badge.svg\" alt=\"Open In Colab\"/></a>"
      ]
    },
    {
      "cell_type": "markdown",
      "source": [
        "\n",
        "# Emotion Identification\n",
        "\n",
        "In this notebook, we'll use machine learning to categorise the emotions included in audio recordings. After extracting characteristics from audio recordings with the librosa framework, we will train a neural network to categorise emotions.\n"
      ],
      "metadata": {
        "id": "Ilm9QATnAM3M"
      },
      "id": "Ilm9QATnAM3M"
    },
    {
      "cell_type": "markdown",
      "source": [
        "## Importing libraries\n",
        "\n",
        "First, we will start by importing the necessary libraries and ignoring warnings.\n",
        "\n"
      ],
      "metadata": {
        "id": "yrKwaUwEANaB"
      },
      "id": "yrKwaUwEANaB"
    },
    {
      "cell_type": "code",
      "execution_count": 1,
      "id": "7c67552e",
      "metadata": {
        "id": "7c67552e"
      },
      "outputs": [],
      "source": [
        "import warnings\n",
        "warnings.filterwarnings('ignore')\n",
        "\n",
        "import librosa\n",
        "import os, glob, pickle\n",
        "import numpy as np\n",
        "import pandas as pd\n",
        "import matplotlib.pyplot as plt\n",
        "import seaborn as sns\n",
        "from sklearn.model_selection import train_test_split\n",
        "from sklearn.preprocessing import StandardScaler\n",
        "from sklearn.neural_network import MLPClassifier\n",
        "from sklearn.metrics import accuracy_score\n",
        "from os import listdir\n",
        "\n",
        "import librosa.display"
      ]
    },
    {
      "cell_type": "markdown",
      "source": [
        "## Extracting audio filenames and emotions\n",
        "\n",
        "We start by collecting the audio filenames and corresponding emotions in separate lists. The path of the audio files and their emotions are stored in the variables audio_path and audio_emotion respectively. The emotions are extracted from the filenames."
      ],
      "metadata": {
        "id": "0tb7S5fWHBjX"
      },
      "id": "0tb7S5fWHBjX"
    },
    {
      "cell_type": "code",
      "source": [
        "from google.colab import drive\n",
        "drive.mount('/content/drive')"
      ],
      "metadata": {
        "colab": {
          "base_uri": "https://localhost:8080/"
        },
        "id": "MqP0GtLaUdzF",
        "outputId": "d7958e76-2334-4799-aad9-c5ebec106c02"
      },
      "id": "MqP0GtLaUdzF",
      "execution_count": 2,
      "outputs": [
        {
          "output_type": "stream",
          "name": "stdout",
          "text": [
            "Mounted at /content/drive\n"
          ]
        }
      ]
    },
    {
      "cell_type": "code",
      "execution_count": 3,
      "id": "38c15aa0",
      "metadata": {
        "id": "38c15aa0"
      },
      "outputs": [],
      "source": [
        "path = 'drive/MyDrive/AudioWAV/'\n",
        "audio_path = []\n",
        "audio_emotion = []"
      ]
    },
    {
      "cell_type": "code",
      "execution_count": 4,
      "id": "23aa9eb0",
      "metadata": {
        "id": "23aa9eb0"
      },
      "outputs": [],
      "source": [
        "# collects all the audio filename in the variable 'path'\n",
        "directory_path = listdir(path)"
      ]
    },
    {
      "cell_type": "code",
      "execution_count": 5,
      "id": "f75da296",
      "metadata": {
        "id": "f75da296"
      },
      "outputs": [],
      "source": [
        "for audio in directory_path:\n",
        "    audio_path.append(path + audio)\n",
        "    emotion = audio.split('_')\n",
        "    if emotion[2] == 'SAD':\n",
        "        audio_emotion.append(\"sad\")\n",
        "    elif emotion[2] == 'ANG':\n",
        "        audio_emotion.append(\"angry\")\n",
        "    elif emotion[2] == 'DIS':\n",
        "        audio_emotion.append(\"disgust\")\n",
        "    elif emotion[2] == 'NEU':\n",
        "        audio_emotion.append(\"neutral\")\n",
        "    elif emotion[2] == 'HAP':\n",
        "        audio_emotion.append(\"happy\")\n",
        "    elif emotion[2] == 'FEA':\n",
        "        audio_emotion.append(\"fear\")\n",
        "    else:\n",
        "        audio_emotion.append(\"unknown\")"
      ]
    },
    {
      "cell_type": "code",
      "execution_count": 6,
      "id": "e1109eb6",
      "metadata": {
        "id": "e1109eb6",
        "outputId": "699052d3-f14d-4cc8-ea69-1c57de17912f",
        "colab": {
          "base_uri": "https://localhost:8080/"
        }
      },
      "outputs": [
        {
          "output_type": "stream",
          "name": "stdout",
          "text": [
            "                                         Path Emotions\n",
            "0  drive/MyDrive/AudioWAV/1080_IEO_ANG_MD.wav    angry\n",
            "1  drive/MyDrive/AudioWAV/1079_IWW_DIS_XX.wav  disgust\n",
            "2  drive/MyDrive/AudioWAV/1079_IEO_DIS_LO.wav  disgust\n",
            "3  drive/MyDrive/AudioWAV/1080_IEO_HAP_LO.wav    happy\n",
            "4  drive/MyDrive/AudioWAV/1079_DFA_DIS_XX.wav  disgust\n"
          ]
        }
      ],
      "source": [
        "emotion_dataset = pd.DataFrame(audio_emotion, columns=['Emotions'])\n",
        "audio_path_dataset = pd.DataFrame(audio_path, columns=['Path'])\n",
        "dataset = pd.concat([audio_path_dataset, emotion_dataset], axis= 1)\n",
        "\n",
        "print(dataset.head())\n"
      ]
    },
    {
      "cell_type": "markdown",
      "source": [
        "## Visualizing emotions\n",
        "\n",
        "We can visualize the emotions of the audio files using a histogram."
      ],
      "metadata": {
        "id": "LTD5Bu1WYFuS"
      },
      "id": "LTD5Bu1WYFuS"
    },
    {
      "cell_type": "code",
      "source": [
        "# counting audio categorized by emotions\n",
        "plt.figure(figsize=(6,6), dpi=80)\n",
        "plt.title(\"Emotion Count\", size=16)\n",
        "plt.xlabel('Emotions', size = 12)\n",
        "plt.ylabel('Count', size = 12)\n",
        "sns.histplot(dataset.Emotions, color='#F19C0E')\n"
      ],
      "metadata": {
        "colab": {
          "base_uri": "https://localhost:8080/",
          "height": 468
        },
        "id": "S4IPzMn7YCnm",
        "outputId": "204c1123-4b25-4b79-c964-66e3252fbc08"
      },
      "id": "S4IPzMn7YCnm",
      "execution_count": 7,
      "outputs": [
        {
          "output_type": "execute_result",
          "data": {
            "text/plain": [
              "<matplotlib.axes._subplots.AxesSubplot at 0x7f8409648eb0>"
            ]
          },
          "metadata": {},
          "execution_count": 7
        },
        {
          "output_type": "display_data",
          "data": {
            "text/plain": [
              "<Figure size 480x480 with 1 Axes>"
            ],
            "image/png": "[encoded data removed]"
          },
          "metadata": {
            "needs_background": "light"
          }
        }
      ]
    },
    {
      "cell_type": "markdown",
      "source": [
        "## Extracting features from audio files\n",
        "\n",
        "Now, we will extract the necessary features from the audio files. We will extract the MFCC and Mel features from the audio files and store them in a dataframe along with the emotion label for each audio file."
      ],
      "metadata": {
        "id": "wXOaQ2vSYM8W"
      },
      "id": "wXOaQ2vSYM8W"
    },
    {
      "cell_type": "code",
      "source": [
        "X, Y = [], []\n",
        "print(\"Feature processing...\")\n",
        "\n",
        "for path, emo, index in zip(dataset.Path, dataset.Emotions, range(len(dataset))):\n",
        "    value, sample = librosa.load(path)\n",
        "    # noise injection\n",
        "    noise_amp = 0.035 * np.random.uniform() * np.amax(value)\n",
        "    value = value + noise_amp * np.random.normal(size=value.shape[0])\n",
        "    # mfcc\n",
        "    mfcc = librosa.feature.mfcc(y=value, sr= sample, n_mfcc=13, n_fft=200, hop_length=512)\n",
        "    mfcc = np.ravel(mfcc.T)\n",
        "    # mel\n",
        "    mel = librosa.feature.melspectrogram(y=value, sr=sample, hop_length = 256, n_fft = 512, n_mels=64)\n",
        "    mel = librosa.power_to_db(mel ** 2)\n",
        "    mel = np.ravel(mel).T\n",
        "    result = np.array([])\n",
        "    result = np.hstack((result, mfcc, mel))\n",
        "  \n",
        "    result = np.array(result)\n",
        "    X.append(result)\n",
        "    Y.append(emo)"
      ],
      "metadata": {
        "colab": {
          "base_uri": "https://localhost:8080/"
        },
        "id": "PI7w0uCeYUGJ",
        "outputId": "ff4491c9-174c-4024-8649-acf52142d8b2"
      },
      "id": "PI7w0uCeYUGJ",
      "execution_count": 8,
      "outputs": [
        {
          "output_type": "stream",
          "name": "stdout",
          "text": [
            "Feature processing...\n"
          ]
        }
      ]
    },
    {
      "cell_type": "code",
      "source": [
        "\n",
        "extracted_audio_df = pd.DataFrame(X)\n",
        "extracted_audio_df[\"emotion_of_audio\"] = Y\n",
        "print(extracted_audio_df.shape)\n",
        "print(extracted_audio_df.tail(10))\n",
        "extracted_audio_df = extracted_audio_df.fillna(0)\n"
      ],
      "metadata": {
        "colab": {
          "base_uri": "https://localhost:8080/"
        },
        "id": "azFnBekuYWnc",
        "outputId": "a568b405-34cd-4168-8561-fbd5679e3a56"
      },
      "id": "azFnBekuYWnc",
      "execution_count": 9,
      "outputs": [
        {
          "output_type": "stream",
          "name": "stdout",
          "text": [
            "(7442, 30457)\n",
            "               0          1          2          3          4          5  \\\n",
            "7432 -795.797579 -32.120075  23.046704  20.396499  20.419560  20.065688   \n",
            "7433 -828.718147   8.093675 -23.101560  35.270118   5.724489   0.590736   \n",
            "7434 -515.626523 -83.889300  -2.958627  15.429383  20.102983  -4.664043   \n",
            "7435 -701.837997 -75.252873   1.833795  13.191461  10.656882  -5.137151   \n",
            "7436 -781.860726 -22.087140  17.749035  35.647971   7.380920  29.136822   \n",
            "7437 -769.889357 -16.823679  -2.288254   7.396960  17.332083 -21.256827   \n",
            "7438 -634.013960 -40.000047   9.136871  12.637184  22.042133   2.734228   \n",
            "7439 -829.959454  13.008016  12.243181  20.267717  10.327020  19.111259   \n",
            "7440 -604.716890 -84.585232 -31.522639  34.604999  30.765686 -16.539457   \n",
            "7441 -649.839321 -56.461303  -7.821440  15.667959   9.210937  14.409639   \n",
            "\n",
            "              6          7          8          9  ...  30447  30448  30449  \\\n",
            "7432 -13.830764  -8.657091 -15.793977  -8.671057  ...    NaN    NaN    NaN   \n",
            "7433 -27.471593  -0.100910  -7.841943  -1.410003  ...    NaN    NaN    NaN   \n",
            "7434  -9.763974  -9.562189 -16.733033   6.206821  ...    NaN    NaN    NaN   \n",
            "7435 -10.521038   0.244821 -21.581825  -0.247533  ...    NaN    NaN    NaN   \n",
            "7436  11.342374  -9.018313  -2.479122   2.314040  ...    NaN    NaN    NaN   \n",
            "7437 -31.912696  -5.841048 -14.743514 -19.662572  ...    NaN    NaN    NaN   \n",
            "7438 -20.439457 -11.721606  -1.420334 -11.237269  ...    NaN    NaN    NaN   \n",
            "7439 -27.509346 -11.189980  -0.316881  10.235978  ...    NaN    NaN    NaN   \n",
            "7440 -12.837433   2.065707   3.837792 -23.797528  ...    NaN    NaN    NaN   \n",
            "7441  -9.182652  -4.196272  -3.655542 -12.785118  ...    NaN    NaN    NaN   \n",
            "\n",
            "      30450  30451  30452  30453  30454  30455  emotion_of_audio  \n",
            "7432    NaN    NaN    NaN    NaN    NaN    NaN              fear  \n",
            "7433    NaN    NaN    NaN    NaN    NaN    NaN           neutral  \n",
            "7434    NaN    NaN    NaN    NaN    NaN    NaN             happy  \n",
            "7435    NaN    NaN    NaN    NaN    NaN    NaN           neutral  \n",
            "7436    NaN    NaN    NaN    NaN    NaN    NaN           neutral  \n",
            "7437    NaN    NaN    NaN    NaN    NaN    NaN              fear  \n",
            "7438    NaN    NaN    NaN    NaN    NaN    NaN           disgust  \n",
            "7439    NaN    NaN    NaN    NaN    NaN    NaN           neutral  \n",
            "7440    NaN    NaN    NaN    NaN    NaN    NaN             happy  \n",
            "7441    NaN    NaN    NaN    NaN    NaN    NaN             happy  \n",
            "\n",
            "[10 rows x 30457 columns]\n"
          ]
        }
      ]
    },
    {
      "cell_type": "markdown",
      "source": [
        "## Preparing data for training\n",
        "\n",
        "Now, we will split the data into training and testing sets and standardize the data using the StandardScaler function.\n"
      ],
      "metadata": {
        "id": "D7f1-KylYY1v"
      },
      "id": "D7f1-KylYY1v"
    },
    {
      "cell_type": "code",
      "source": [
        "# preparing to train\n",
        "X = extracted_audio_df.drop(labels='emotion_of_audio', axis= 1)\n",
        "Y = extracted_audio_df['emotion_of_audio']\n",
        "\n",
        "x_train, x_test, y_train, y_test = train_test_split(np.array(X), Y, test_size=0.2)"
      ],
      "metadata": {
        "id": "Se-qEEcyYZ5Z"
      },
      "id": "Se-qEEcyYZ5Z",
      "execution_count": 10,
      "outputs": []
    },
    {
      "cell_type": "code",
      "source": [
        "scaler = StandardScaler()\n",
        "x_train = scaler.fit_transform(x_train)\n",
        "x_test = scaler.transform(x_test)"
      ],
      "metadata": {
        "id": "KL6OIwJwYb-1"
      },
      "id": "KL6OIwJwYb-1",
      "execution_count": 11,
      "outputs": []
    },
    {
      "cell_type": "markdown",
      "source": [
        "## Training the Model\n",
        "\n",
        "Now, we will create an instance of the MLP Classifier from the sklearn.neural_network library and fit it to the training data."
      ],
      "metadata": {
        "id": "9_8kJwJIYgAu"
      },
      "id": "9_8kJwJIYgAu"
    },
    {
      "cell_type": "code",
      "source": [
        "mlp_model = MLPClassifier(activation='relu',\n",
        "                         solver='sgd',\n",
        "                         hidden_layer_sizes=100, \n",
        "                         alpha=0.839903176695813,\n",
        "                         batch_size=150,\n",
        "                         learning_rate='adaptive',\n",
        "                         max_iter=100000)\n",
        "# Fitting mlp model\n",
        "mlp_model.fit(x_train,y_train)"
      ],
      "metadata": {
        "id": "dwutyPUcYezG",
        "colab": {
          "base_uri": "https://localhost:8080/"
        },
        "outputId": "86f4f054-db4e-42a0-b287-db3b3cbdcffd"
      },
      "id": "dwutyPUcYezG",
      "execution_count": 15,
      "outputs": [
        {
          "output_type": "execute_result",
          "data": {
            "text/plain": [
              "MLPClassifier(alpha=0.839903176695813, batch_size=150, hidden_layer_sizes=100,\n",
              "              learning_rate='adaptive', max_iter=100000, solver='sgd')"
            ]
          },
          "metadata": {},
          "execution_count": 15
        }
      ]
    },
    {
      "cell_type": "markdown",
      "source": [
        "## Evaluating the Model\n",
        "\n",
        "Now that the model is trained, we will evaluate its performance on the test data. We will use the accuracy_score function from the sklearn.metrics library to calculate the accuracy of the model."
      ],
      "metadata": {
        "id": "S5qged10YhjA"
      },
      "id": "S5qged10YhjA"
    },
    {
      "cell_type": "code",
      "source": [
        "y_pred = mlp_model.predict(x_test)\n",
        "accuracy=accuracy_score(y_true=y_test, y_pred=y_pred)\n",
        "\n",
        "print(\"\\nModel:{}    Accuracy: {:.2f}%\".\n",
        "          format(type(mlp_model).__name__ , accuracy*100))"
      ],
      "metadata": {
        "id": "R5BjHr6kYhV3",
        "colab": {
          "base_uri": "https://localhost:8080/"
        },
        "outputId": "657f905f-be97-44f5-ce7b-e2b917dfa7a1"
      },
      "id": "R5BjHr6kYhV3",
      "execution_count": 16,
      "outputs": [
        {
          "output_type": "stream",
          "name": "stdout",
          "text": [
            "\n",
            "Model:MLPClassifier    Accuracy: 40.43%\n"
          ]
        }
      ]
    },
    {
      "cell_type": "markdown",
      "source": [
        "## Model Predictions\n",
        "\n",
        "Finally, we can print out the predictions made by the model on the testing set."
      ],
      "metadata": {
        "id": "nJDI8ofHYka6"
      },
      "id": "nJDI8ofHYka6"
    },
    {
      "cell_type": "code",
      "source": [
        "print(\"The Model's Prediction \")\n",
        "print(\"<<<===========================================>>>\")\n",
        "df = pd.DataFrame({'Actual': y_test, 'Predict': y_pred})\n",
        "print(df.head())"
      ],
      "metadata": {
        "id": "2ErAxBOpYj4-",
        "colab": {
          "base_uri": "https://localhost:8080/"
        },
        "outputId": "24a1ff68-60f4-42de-f599-4c779ebb7825"
      },
      "id": "2ErAxBOpYj4-",
      "execution_count": 17,
      "outputs": [
        {
          "output_type": "stream",
          "name": "stdout",
          "text": [
            "The Model's Prediction \n",
            "<<<===========================================>>>\n",
            "       Actual  Predict\n",
            "2383    angry  neutral\n",
            "6719    happy    happy\n",
            "908     happy     fear\n",
            "3067  disgust    angry\n",
            "3165      sad      sad\n"
          ]
        }
      ]
    }
  ],
  "metadata": {
    "kernelspec": {
      "display_name": "Python 3 (ipykernel)",
      "language": "python",
      "name": "python3"
    },
    "language_info": {
      "codemirror_mode": {
        "name": "ipython",
        "version": 3
      },
      "file_extension": ".py",
      "mimetype": "text/x-python",
      "name": "python",
      "nbconvert_exporter": "python",
      "pygments_lexer": "ipython3",
      "version": "3.9.15"
    },
    "colab": {
      "provenance": [],
      "include_colab_link": true
    }
  },
  "nbformat": 4,
  "nbformat_minor": 5
}