{
 "cells": [
  {
   "cell_type": "markdown",
   "id": "165ac7d5",
   "metadata": {},
   "source": [
    "\n",
    "# Emotion Identification\n",
    "\n",
    "In this notebook, we'll use machine learning to categorise the emotions included in audio recordings. After extracting characteristics from audio recordings with the librosa framework, we will train a neural network to categorise emotions.\n"
   ]
  },
  {
   "cell_type": "markdown",
   "id": "8a200fba",
   "metadata": {},
   "source": [
    "## Importing libraries\n",
    "\n",
    "First, we will start by importing the necessary libraries and ignoring warnings.\n"
   ]
  },
  {
   "cell_type": "code",
   "execution_count": 1,
   "id": "7c67552e",
   "metadata": {},
   "outputs": [],
   "source": [
    "import warnings\n",
    "warnings.filterwarnings('ignore')\n",
    "\n",
    "import librosa\n",
    "import os, glob, pickle\n",
    "import numpy as np\n",
    "import pandas as pd\n",
    "import matplotlib.pyplot as plt\n",
    "import seaborn as sns\n",
    "from sklearn.model_selection import train_test_split\n",
    "from sklearn.preprocessing import StandardScaler\n",
    "from sklearn.neural_network import MLPClassifier\n",
    "from sklearn.metrics import accuracy_score\n",
    "from os import listdir"
   ]
  },
  {
   "cell_type": "markdown",
   "id": "b80f2749",
   "metadata": {},
   "source": [
    "## Extracting audio filenames and emotions\n",
    "\n",
    "We start by collecting the audio filenames and corresponding emotions in separate lists. The path of the audio files and their emotions are stored in the variables audio_path and audio_emotion respectively. The emotions are extracted from the filenames.\n"
   ]
  },
  {
   "cell_type": "code",
   "execution_count": 2,
   "id": "38c15aa0",
   "metadata": {},
   "outputs": [],
   "source": [
    "path = 'C:/Users/joelj/OneDrive/Documents/IITH Reseach Teaser-Speech Processing/Emotion Identification/CREMA-D/AudioWAV/'\n",
    "audio_path = []\n",
    "audio_emotion = []"
   ]
  },
  {
   "cell_type": "code",
   "execution_count": 3,
   "id": "23aa9eb0",
   "metadata": {},
   "outputs": [],
   "source": [
    "# collects all the audio filename in the variable 'path'\n",
    "directory_path = listdir(path)"
   ]
  },
  {
   "cell_type": "code",
   "execution_count": 4,
   "id": "f75da296",
   "metadata": {},
   "outputs": [],
   "source": [
    "for audio in directory_path:\n",
    "    audio_path.append(path + audio)\n",
    "    emotion = audio.split('_')\n",
    "    if emotion[2] == 'SAD':\n",
    "        audio_emotion.append(\"sad\")\n",
    "    elif emotion[2] == 'ANG':\n",
    "        audio_emotion.append(\"angry\")\n",
    "    elif emotion[2] == 'DIS':\n",
    "        audio_emotion.append(\"disgust\")\n",
    "    elif emotion[2] == 'NEU':\n",
    "        audio_emotion.append(\"neutral\")\n",
    "    elif emotion[2] == 'HAP':\n",
    "        audio_emotion.append(\"happy\")\n",
    "    elif emotion[2] == 'FEA':\n",
    "        audio_emotion.append(\"fear\")\n",
    "    else:\n",
    "        audio_emotion.append(\"unknown\")"
   ]
  },
  {
   "cell_type": "code",
   "execution_count": 5,
   "id": "e1109eb6",
   "metadata": {},
   "outputs": [
    {
     "name": "stdout",
     "output_type": "stream",
     "text": [
      "                                                Path Emotions\n",
      "0  C:/Users/joelj/OneDrive/Documents/IITH Reseach...    angry\n",
      "1  C:/Users/joelj/OneDrive/Documents/IITH Reseach...  disgust\n",
      "2  C:/Users/joelj/OneDrive/Documents/IITH Reseach...     fear\n",
      "3  C:/Users/joelj/OneDrive/Documents/IITH Reseach...    happy\n",
      "4  C:/Users/joelj/OneDrive/Documents/IITH Reseach...  neutral\n"
     ]
    }
   ],
   "source": [
    "emotion_dataset = pd.DataFrame(audio_emotion, columns=['Emotions'])\n",
    "audio_path_dataset = pd.DataFrame(audio_path, columns=['Path'])\n",
    "dataset = pd.concat([audio_path_dataset, emotion_dataset], axis= 1)\n",
    "#print(len(dataset))\n",
    "print(dataset.head())\n",
    "# print(dataset['File Path'][55])"
   ]
  },
  {
   "cell_type": "markdown",
   "id": "9075672b",
   "metadata": {},
   "source": [
    "## Visualizing emotions\n",
    "\n",
    "We can visualize the emotions of the audio files using a histogram."
   ]
  },
  {
   "cell_type": "code",
   "execution_count": 6,
   "id": "8a50b59a",
   "metadata": {},
   "outputs": [
    {
     "data": {
      "text/plain": [
       "<AxesSubplot: title={'center': 'Emotion Count'}, xlabel='Emotions', ylabel='Count'>"
      ]
     },
     "execution_count": 6,
     "metadata": {},
     "output_type": "execute_result"
    },
    {
     "data": {
      "image/png": "[encoded data removed]",
      "text/plain": [
       "<Figure size 480x480 with 1 Axes>"
      ]
     },
     "metadata": {},
     "output_type": "display_data"
    }
   ],
   "source": [
    "# counting audio categorized by emotions\n",
    "plt.figure(figsize=(6,6), dpi=80)\n",
    "plt.title(\"Emotion Count\", size=16)\n",
    "plt.xlabel('Emotions', size = 12)\n",
    "plt.ylabel('Count', size = 12)\n",
    "sns.histplot(dataset.Emotions, color='#F19C0E')\n",
    "#plt.show()"
   ]
  },
  {
   "cell_type": "markdown",
   "id": "6eed6ed4",
   "metadata": {},
   "source": [
    "\n",
    "## Extracting features from audio files\n",
    "\n",
    "Now, we will extract the necessary features from the audio files. We will extract the MFCC and Mel features from the audio files and store them in a dataframe along with the emotion label for each audio file."
   ]
  },
  {
   "cell_type": "code",
   "execution_count": 7,
   "id": "37a18735",
   "metadata": {},
   "outputs": [
    {
     "name": "stdout",
     "output_type": "stream",
     "text": [
      "Feature processing...\n"
     ]
    }
   ],
   "source": [
    "X, Y = [], []\n",
    "print(\"Feature processing...\")\n",
    "\n",
    "for path, emo, index in zip(dataset.Path, dataset.Emotions, range(len(dataset))):\n",
    "    value, sample = librosa.load(path)\n",
    "    # noise injection\n",
    "    noise_amp = 0.035 * np.random.uniform() * np.amax(value)\n",
    "    value = value + noise_amp * np.random.normal(size=value.shape[0])\n",
    "    # mfcc\n",
    "    mfcc = librosa.feature.mfcc(y=value, sr= sample, n_mfcc=13, n_fft=200, hop_length=512)\n",
    "    mfcc = np.ravel(mfcc.T)\n",
    "    # mel\n",
    "    mel = librosa.feature.melspectrogram(y=value, sr=sample, hop_length = 256, n_fft = 512, n_mels=64)\n",
    "    mel = librosa.power_to_db(mel ** 2)\n",
    "    mel = np.ravel(mel).T\n",
    "    result = np.array([])\n",
    "    result = np.hstack((result, mfcc, mel))\n",
    "    #print(result)\n",
    "    result = np.array(result)\n",
    "    X.append(result)\n",
    "    Y.append(emo)"
   ]
  },
  {
   "cell_type": "code",
   "execution_count": 8,
   "id": "3fae422c",
   "metadata": {},
   "outputs": [
    {
     "name": "stdout",
     "output_type": "stream",
     "text": [
      "(7442, 30457)\n",
      "               0          1          2          3          4          5  \\\n",
      "7432 -691.676433 -66.608213  -3.373386  22.732077  18.859607 -10.212492   \n",
      "7433 -692.023636 -60.572862   3.818899  14.949758  12.301598 -11.431650   \n",
      "7434 -742.552505 -36.604282  -8.469167   1.624534  13.186975   7.586315   \n",
      "7435 -750.874881 -58.121394 -15.539079  16.556214  21.576011 -18.146515   \n",
      "7436 -644.791432 -76.615987 -18.222448  15.375383  22.741238 -15.780201   \n",
      "7437 -741.515623 -64.437606   2.094928  10.921220  26.693484  13.394161   \n",
      "7438 -741.113237 -20.345408 -17.332806  21.312941  13.379471  -7.463377   \n",
      "7439 -744.692609 -40.974679   5.540676  13.202781   1.621401   4.892782   \n",
      "7440 -663.407400 -81.592863 -20.581258  13.299165   9.913830  -8.628144   \n",
      "7441 -827.083656 -14.069783   2.392544  12.806880   3.314845  10.998058   \n",
      "\n",
      "              6          7          8          9  ...  30447  30448  30449  \\\n",
      "7432 -15.630008   0.144185   6.893599  -9.867546  ...    NaN    NaN    NaN   \n",
      "7433  -3.228191   4.650432  -6.917152 -13.024616  ...    NaN    NaN    NaN   \n",
      "7434 -12.117204 -12.692797   6.359851 -14.619729  ...    NaN    NaN    NaN   \n",
      "7435  -7.756441   2.831102  -3.921600 -11.707637  ...    NaN    NaN    NaN   \n",
      "7436 -13.442509   5.043314   8.873078  -7.618588  ...    NaN    NaN    NaN   \n",
      "7437 -14.175307  -8.764131 -14.491151  -4.244681  ...    NaN    NaN    NaN   \n",
      "7438  -4.663960  -3.804296  -7.473544  -8.424830  ...    NaN    NaN    NaN   \n",
      "7439  18.821283  -0.035195  -7.239123  -9.855313  ...    NaN    NaN    NaN   \n",
      "7440  -0.774108  -7.055545   4.875022   7.321164  ...    NaN    NaN    NaN   \n",
      "7441  -1.620246   2.304056  -1.102188  -2.546286  ...    NaN    NaN    NaN   \n",
      "\n",
      "      30450  30451  30452  30453  30454  30455  emotion_of_audio  \n",
      "7432    NaN    NaN    NaN    NaN    NaN    NaN              fear  \n",
      "7433    NaN    NaN    NaN    NaN    NaN    NaN             happy  \n",
      "7434    NaN    NaN    NaN    NaN    NaN    NaN           neutral  \n",
      "7435    NaN    NaN    NaN    NaN    NaN    NaN               sad  \n",
      "7436    NaN    NaN    NaN    NaN    NaN    NaN             angry  \n",
      "7437    NaN    NaN    NaN    NaN    NaN    NaN           disgust  \n",
      "7438    NaN    NaN    NaN    NaN    NaN    NaN              fear  \n",
      "7439    NaN    NaN    NaN    NaN    NaN    NaN             happy  \n",
      "7440    NaN    NaN    NaN    NaN    NaN    NaN           neutral  \n",
      "7441    NaN    NaN    NaN    NaN    NaN    NaN               sad  \n",
      "\n",
      "[10 rows x 30457 columns]\n"
     ]
    }
   ],
   "source": [
    "# print(X)\n",
    "# print(Y)\n",
    "extracted_audio_df = pd.DataFrame(X)\n",
    "extracted_audio_df[\"emotion_of_audio\"] = Y\n",
    "print(extracted_audio_df.shape)\n",
    "print(extracted_audio_df.tail(10))\n",
    "extracted_audio_df = extracted_audio_df.fillna(0)\n",
    "#print(extracted_audio_df.isna().any())"
   ]
  },
  {
   "cell_type": "markdown",
   "id": "50724792",
   "metadata": {},
   "source": [
    "## Preparing data for training\n",
    "\n",
    "Now, we will split the data into training and testing sets and standardize the data using the StandardScaler function."
   ]
  },
  {
   "cell_type": "code",
   "execution_count": 9,
   "id": "e8ab083c",
   "metadata": {},
   "outputs": [],
   "source": [
    "# preparing to train\n",
    "X = extracted_audio_df.drop(labels='emotion_of_audio', axis= 1)\n",
    "Y = extracted_audio_df['emotion_of_audio']\n",
    "\n",
    "x_train, x_test, y_train, y_test = train_test_split(np.array(X), Y, test_size=0.2)\n",
    "\n",
    "scaler = StandardScaler()\n",
    "x_train = scaler.fit_transform(x_train)\n",
    "x_test = scaler.transform(x_test)"
   ]
  },
  {
   "cell_type": "markdown",
   "id": "80884f52",
   "metadata": {},
   "source": [
    "## Training the Model\n",
    "\n",
    "Now, we will create an instance of the MLPClassifier from the sklearn.neural_network library and fit it to the training data."
   ]
  },
  {
   "cell_type": "code",
   "execution_count": 10,
   "id": "d00772ee",
   "metadata": {},
   "outputs": [
    {
     "data": {
      "text/plain": [
       "MLPClassifier(alpha=0.839903176695813, batch_size=150, hidden_layer_sizes=100,\n",
       "              learning_rate='adaptive', max_iter=100000, solver='sgd')"
      ]
     },
     "execution_count": 10,
     "metadata": {},
     "output_type": "execute_result"
    }
   ],
   "source": [
    "mlp_model = MLPClassifier(activation='relu',\n",
    "                         solver='sgd',\n",
    "                         hidden_layer_sizes=100, \n",
    "                         alpha=0.839903176695813,\n",
    "                         batch_size=150,\n",
    "                         learning_rate='adaptive',\n",
    "                         max_iter=100000)\n",
    "# Fitting mlp model\n",
    "mlp_model.fit(x_train,y_train)"
   ]
  },
  {
   "cell_type": "markdown",
   "id": "d0da5cd5",
   "metadata": {},
   "source": [
    "## Evaluating the Model\n",
    "\n",
    "Now that the model is trained, we will evaluate its performance on the test data. We will use the accuracy_score function from the sklearn.metrics library to calculate the accuracy of the model."
   ]
  },
  {
   "cell_type": "code",
   "execution_count": 11,
   "id": "253dccc2",
   "metadata": {},
   "outputs": [
    {
     "name": "stdout",
     "output_type": "stream",
     "text": [
      "\n",
      "Model:MLPClassifier    Accuracy: 41.24%\n"
     ]
    }
   ],
   "source": [
    "y_pred = mlp_model.predict(x_test)\n",
    "accuracy=accuracy_score(y_true=y_test, y_pred=y_pred)\n",
    "\n",
    "print(\"\\nModel:{}    Accuracy: {:.2f}%\".\n",
    "          format(type(mlp_model).__name__ , accuracy*100))"
   ]
  },
  {
   "cell_type": "markdown",
   "id": "2f14b9ed",
   "metadata": {},
   "source": [
    "## Model Predictions\n",
    "\n",
    "Finally, we can print out the predictions made by the model on the testing set."
   ]
  },
  {
   "cell_type": "code",
   "execution_count": 12,
   "id": "f66afb14",
   "metadata": {},
   "outputs": [
    {
     "name": "stdout",
     "output_type": "stream",
     "text": [
      "The Model's Prediction \n",
      "<<<===========================================>>>\n",
      "       Actual  Predict\n",
      "6623  disgust  neutral\n",
      "5244    happy     fear\n",
      "2737  neutral      sad\n",
      "3812  disgust      sad\n",
      "6965    happy    angry\n"
     ]
    }
   ],
   "source": [
    "print(\"The Model's Prediction \")\n",
    "print(\"<<<===========================================>>>\")\n",
    "df = pd.DataFrame({'Actual': y_test, 'Predict': y_pred})\n",
    "print(df.head())"
   ]
  }
 ],
 "metadata": {
  "kernelspec": {
   "display_name": "Python 3 (ipykernel)",
   "language": "python",
   "name": "python3"
  },
  "language_info": {
   "codemirror_mode": {
    "name": "ipython",
    "version": 3
   },
   "file_extension": ".py",
   "mimetype": "text/x-python",
   "name": "python",
   "nbconvert_exporter": "python",
   "pygments_lexer": "ipython3",
   "version": "3.9.15"
  }
 },
 "nbformat": 4,
 "nbformat_minor": 5
}
